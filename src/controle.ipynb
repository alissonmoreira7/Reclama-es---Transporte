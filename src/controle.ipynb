{
 "cells": [
  {
   "cell_type": "code",
   "execution_count": 45,
   "id": "8d3708c5",
   "metadata": {},
   "outputs": [],
   "source": [
    "#Reclamações para o arquivo .txt\n",
    "with open(\"../data/reclamacoes.txt\", 'a') as r1:\n",
    "    count = 0\n",
    "    while True:\n",
    "        reclamacao = input('Digite a sua reclamação: ')\n",
    "\n",
    "        count += 1\n",
    "        r1.write(f'Reclamações {count}: {reclamacao}\\n')\n",
    "\n",
    "        escolha = input('Você deseja continuar? [S/N]').lower()\n",
    "        if escolha != 's':\n",
    "            break\n",
    "\n",
    "with open(\"../data/reclamacoes.txt\", 'r') as r1:\n",
    "    df_txt = r1.read()\n"
   ]
  },
  {
   "cell_type": "code",
   "execution_count": 46,
   "id": "926499e7",
   "metadata": {},
   "outputs": [],
   "source": [
    "#Reclamações para o arquivo .csv\n",
    "import csv\n",
    "\n",
    "with open(\"../data/reclamacoes2.csv\", 'a', newline = '') as r2:\n",
    "    df_csv = csv.writer(r2)\n",
    "    df_csv.writerow(('id', 'tipo', 'local', 'data'))\n",
    "    \n",
    "    count = 0\n",
    "    while True:\n",
    "        tipo = input('Qual é o tipo da sua reclamação? ')\n",
    "        local = input('Qual foi o local da ocorrência? ')\n",
    "        date = input('Qual foi a data do ocorrido? ')\n",
    "        count += 1\n",
    "        \n",
    "        df_csv.writerow((count, tipo, local, date))\n",
    "\n",
    "        escolha = input('Você deseja cadastrar outra reclamação? [S/N]').lower()\n",
    "        if escolha != 's':\n",
    "            break\n",
    "    \n",
    "with open(\"../data/reclamacoes2.csv\", 'r') as r2:\n",
    "    df_csv = csv.reader(r2, delimiter=',')"
   ]
  },
  {
   "cell_type": "code",
   "execution_count": null,
   "id": "1c6eacb1",
   "metadata": {},
   "outputs": [],
   "source": [
    "# Inserindo dados no DataFrame Principal\n"
   ]
  }
 ],
 "metadata": {
  "kernelspec": {
   "display_name": "base",
   "language": "python",
   "name": "python3"
  },
  "language_info": {
   "codemirror_mode": {
    "name": "ipython",
    "version": 3
   },
   "file_extension": ".py",
   "mimetype": "text/x-python",
   "name": "python",
   "nbconvert_exporter": "python",
   "pygments_lexer": "ipython3",
   "version": "3.12.7"
  }
 },
 "nbformat": 4,
 "nbformat_minor": 5
}
