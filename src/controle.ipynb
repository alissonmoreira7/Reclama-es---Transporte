{
 "cells": [
  {
   "cell_type": "code",
   "execution_count": 4,
   "id": "8d3708c5",
   "metadata": {},
   "outputs": [],
   "source": [
    "with open(\"../data/reclamacoes.txt\", 'a') as r1:\n",
    "    count = 0\n",
    "    while True:\n",
    "        reclamacao = input('Digite a sua reclamação: ')\n",
    "\n",
    "        count += 1\n",
    "        r1.write(f'Reclamações {count}: {reclamacao}\\n')\n",
    "\n",
    "        escolha = input('Você deseja continuar? [S/N]').lower()\n",
    "        if escolha != 's':\n",
    "            break\n"
   ]
  },
  {
   "cell_type": "code",
   "execution_count": null,
   "id": "926499e7",
   "metadata": {},
   "outputs": [],
   "source": [
    "import csv\n",
    "\n",
    "with open(\"../data/reclamacoes2.csv\", 'a', newline = '') as r2:\n",
    "    data = csv.writer(r2)\n",
    "    data.writerow(('id', 'tipo', 'local', 'data'))\n",
    "    \n",
    "    count = 0\n",
    "    while True:\n",
    "        tipo = input('Qual é o tipo da sua reclamação? ')\n",
    "        local = input('Qual foi o local da ocorrência? ')\n",
    "        date = input('Qual foi a data do ocorrido? ')\n",
    "        count += 1\n",
    "        \n",
    "        data.writerow((count, tipo, local, date))\n",
    "\n",
    "        escolha = input('Você deseja cadastrar outra reclamação? [S/N]').lower()\n",
    "        if escolha != 's':\n",
    "            break"
   ]
  }
 ],
 "metadata": {
  "kernelspec": {
   "display_name": "base",
   "language": "python",
   "name": "python3"
  },
  "language_info": {
   "codemirror_mode": {
    "name": "ipython",
    "version": 3
   },
   "file_extension": ".py",
   "mimetype": "text/x-python",
   "name": "python",
   "nbconvert_exporter": "python",
   "pygments_lexer": "ipython3",
   "version": "3.12.7"
  }
 },
 "nbformat": 4,
 "nbformat_minor": 5
}
